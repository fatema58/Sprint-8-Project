{
 "cells": [
  {
   "cell_type": "markdown",
   "metadata": {},
   "source": [
    "# Customer Exit Analysis for Beta Banking"
   ]
  },
  {
   "cell_type": "markdown",
   "metadata": {},
   "source": [
    "Beta Bank customers are leaving: little by little, chipping away every month. The bankers figured out it’s cheaper to save the existing customers rather than to attract new ones.\n",
    "\n",
    "We need to predict whether a customer will leave the bank soon. You have the data on clients’ past behavior and termination of contracts with the bank.\n",
    "\n"
   ]
  },
  {
   "cell_type": "markdown",
   "metadata": {},
   "source": [
    "The preprocessing steps help ensure that the data is in a suitable format for training machine learning models and can improve the models' predictive performance. It's important to tailor the preprocessing steps to the specific characteristics of the dataset and the requirements of the chosen machine learning algorithms. The steps are:\n",
    "\n",
    "1. Handling Missing Values\n",
    "\n",
    "2. Encoding Categorical Behaviours\n",
    "\n",
    "3. Scaling numerical features(If necessary)\n",
    "\n",
    "4. Handing Imbalanced Calsses(If necessary)\n",
    "\n",
    "5. Feature engineering(optional)"
   ]
  },
  {
   "cell_type": "markdown",
   "metadata": {},
   "source": []
  },
  {
   "cell_type": "markdown",
   "metadata": {},
   "source": [
    "# Question 1\n",
    "Download and prepare the data. Explain the procedure."
   ]
  },
  {
   "cell_type": "markdown",
   "metadata": {},
   "source": [
    "To prepare the data for training machine learning models to predict whether a customer will leave Beta Bank soon, we follow a series of preprocessing steps. Let's outline the process:\n",
    "\n",
    "Loading the Data: Load the dataset containing past behavior and termination of contracts with the bank.\n",
    "\n",
    "Exploratory Data Analysis (EDA):\n",
    "\n",
    "Perform exploratory data analysis to understand the structure and characteristics of the dataset.\n",
    "Explore the distribution of features, identify any outliers, and understand the relationships between variables.\n",
    "Check for missing values and decide on an appropriate strategy to handle them.\n",
    "\n",
    "Handling Missing Values:\n",
    "\n",
    "If there are missing values, decide on an appropriate strategy to handle them:\n",
    "For numerical features, impute missing values with the mean, median, or mode.\n",
    "For categorical features, impute missing values with the most frequent category or a separate 'unknown' category.\n",
    "Alternatively, drop rows or columns with missing values if they are insignificant.\n",
    "\n",
    "\n",
    "Encoding Categorical Variables:\n",
    "\n",
    "Convert categorical variables into numerical format:\n",
    "For ordinal categorical variables (with a natural order), perform ordinal encoding.\n",
    "For nominal categorical variables (without a natural order), perform one-hot encoding or dummy encoding to create binary columns for each category.\n",
    "\n",
    "\n",
    "Feature Scaling (if necessary):\n",
    "\n",
    "Scale numerical features to bring them to a similar scale:\n",
    "Standardization: Subtract the mean and divide by the standard deviation.\n",
    "Normalization: Scale features to a range between 0 and 1.\n",
    "\n",
    "\n",
    "Handling Imbalanced Classes (if necessary):\n",
    "\n",
    "If the classes in the target variable are imbalanced:\n",
    "Consider techniques such as oversampling (creating synthetic samples of the minority class) or undersampling (removing samples from the majority class) to balance the classes.\n",
    "Alternatively, use algorithms that are robust to class imbalance, or specify class weights during model training.\n",
    "\n",
    "\n",
    "Feature Engineering (optional):\n",
    "\n",
    "Create new features from existing ones that may better capture the underlying patterns in the data.\n",
    "Examples include interaction terms, polynomial features, or domain-specific transformations.\n",
    "\n",
    "\n",
    "Train-Test Split:\n",
    "\n",
    "Split the dataset into training and testing sets to evaluate the model's performance on unseen data.\n",
    "By following these preprocessing steps, we ensure that the data is in a suitable format for training machine learning models. Each step is tailored to the specific characteristics of the dataset and the requirements of the chosen machine learning algorithms."
   ]
  },
  {
   "cell_type": "code",
   "execution_count": 45,
   "metadata": {},
   "outputs": [],
   "source": [
    "import pandas as pd\n",
    "import numpy as np\n",
    "from sklearn.model_selection import train_test_split\n",
    "from sklearn.linear_model import LogisticRegression\n",
    "from sklearn.metrics import classification_report\n",
    "from sklearn.preprocessing import StandardScaler, MinMaxScaler\n",
    "from sklearn.preprocessing import PolynomialFeatures\n",
    "from sklearn.ensemble import RandomForestClassifier, GradientBoostingClassifier\n",
    "import matplotlib.pyplot as plt\n",
    "import seaborn as sns\n",
    "from sklearn.metrics import roc_auc_score\n",
    "from sklearn.metrics import accuracy_score, precision_score, recall_score, f1_score\n",
    "from sklearn.utils import shuffle\n",
    "from sklearn.utils import resample\n",
    "from sklearn.impute import SimpleImputer\n",
    "from numpy import isfinite"
   ]
  },
  {
   "cell_type": "code",
   "execution_count": 2,
   "metadata": {},
   "outputs": [],
   "source": [
    "# Step 1: Data Preparation\n",
    "# Load the dataset\n",
    "df = pd.read_csv(\"/datasets/Churn.csv\")"
   ]
  },
  {
   "cell_type": "code",
   "execution_count": 3,
   "metadata": {},
   "outputs": [
    {
     "name": "stdout",
     "output_type": "stream",
     "text": [
      "<class 'pandas.core.frame.DataFrame'>\n",
      "RangeIndex: 10000 entries, 0 to 9999\n",
      "Data columns (total 14 columns):\n",
      " #   Column           Non-Null Count  Dtype  \n",
      "---  ------           --------------  -----  \n",
      " 0   RowNumber        10000 non-null  int64  \n",
      " 1   CustomerId       10000 non-null  int64  \n",
      " 2   Surname          10000 non-null  object \n",
      " 3   CreditScore      10000 non-null  int64  \n",
      " 4   Geography        10000 non-null  object \n",
      " 5   Gender           10000 non-null  object \n",
      " 6   Age              10000 non-null  int64  \n",
      " 7   Tenure           9091 non-null   float64\n",
      " 8   Balance          10000 non-null  float64\n",
      " 9   NumOfProducts    10000 non-null  int64  \n",
      " 10  HasCrCard        10000 non-null  int64  \n",
      " 11  IsActiveMember   10000 non-null  int64  \n",
      " 12  EstimatedSalary  10000 non-null  float64\n",
      " 13  Exited           10000 non-null  int64  \n",
      "dtypes: float64(3), int64(8), object(3)\n",
      "memory usage: 1.1+ MB\n"
     ]
    }
   ],
   "source": [
    "df.info()"
   ]
  },
  {
   "cell_type": "code",
   "execution_count": 4,
   "metadata": {},
   "outputs": [
    {
     "data": {
      "text/html": [
       "<div>\n",
       "<style scoped>\n",
       "    .dataframe tbody tr th:only-of-type {\n",
       "        vertical-align: middle;\n",
       "    }\n",
       "\n",
       "    .dataframe tbody tr th {\n",
       "        vertical-align: top;\n",
       "    }\n",
       "\n",
       "    .dataframe thead th {\n",
       "        text-align: right;\n",
       "    }\n",
       "</style>\n",
       "<table border=\"1\" class=\"dataframe\">\n",
       "  <thead>\n",
       "    <tr style=\"text-align: right;\">\n",
       "      <th></th>\n",
       "      <th>RowNumber</th>\n",
       "      <th>CustomerId</th>\n",
       "      <th>CreditScore</th>\n",
       "      <th>Age</th>\n",
       "      <th>Tenure</th>\n",
       "      <th>Balance</th>\n",
       "      <th>NumOfProducts</th>\n",
       "      <th>HasCrCard</th>\n",
       "      <th>IsActiveMember</th>\n",
       "      <th>EstimatedSalary</th>\n",
       "      <th>Exited</th>\n",
       "    </tr>\n",
       "  </thead>\n",
       "  <tbody>\n",
       "    <tr>\n",
       "      <th>count</th>\n",
       "      <td>10000.00000</td>\n",
       "      <td>1.000000e+04</td>\n",
       "      <td>10000.000000</td>\n",
       "      <td>10000.000000</td>\n",
       "      <td>9091.000000</td>\n",
       "      <td>10000.000000</td>\n",
       "      <td>10000.000000</td>\n",
       "      <td>10000.00000</td>\n",
       "      <td>10000.000000</td>\n",
       "      <td>10000.000000</td>\n",
       "      <td>10000.000000</td>\n",
       "    </tr>\n",
       "    <tr>\n",
       "      <th>mean</th>\n",
       "      <td>5000.50000</td>\n",
       "      <td>1.569094e+07</td>\n",
       "      <td>650.528800</td>\n",
       "      <td>38.921800</td>\n",
       "      <td>4.997690</td>\n",
       "      <td>76485.889288</td>\n",
       "      <td>1.530200</td>\n",
       "      <td>0.70550</td>\n",
       "      <td>0.515100</td>\n",
       "      <td>100090.239881</td>\n",
       "      <td>0.203700</td>\n",
       "    </tr>\n",
       "    <tr>\n",
       "      <th>std</th>\n",
       "      <td>2886.89568</td>\n",
       "      <td>7.193619e+04</td>\n",
       "      <td>96.653299</td>\n",
       "      <td>10.487806</td>\n",
       "      <td>2.894723</td>\n",
       "      <td>62397.405202</td>\n",
       "      <td>0.581654</td>\n",
       "      <td>0.45584</td>\n",
       "      <td>0.499797</td>\n",
       "      <td>57510.492818</td>\n",
       "      <td>0.402769</td>\n",
       "    </tr>\n",
       "    <tr>\n",
       "      <th>min</th>\n",
       "      <td>1.00000</td>\n",
       "      <td>1.556570e+07</td>\n",
       "      <td>350.000000</td>\n",
       "      <td>18.000000</td>\n",
       "      <td>0.000000</td>\n",
       "      <td>0.000000</td>\n",
       "      <td>1.000000</td>\n",
       "      <td>0.00000</td>\n",
       "      <td>0.000000</td>\n",
       "      <td>11.580000</td>\n",
       "      <td>0.000000</td>\n",
       "    </tr>\n",
       "    <tr>\n",
       "      <th>25%</th>\n",
       "      <td>2500.75000</td>\n",
       "      <td>1.562853e+07</td>\n",
       "      <td>584.000000</td>\n",
       "      <td>32.000000</td>\n",
       "      <td>2.000000</td>\n",
       "      <td>0.000000</td>\n",
       "      <td>1.000000</td>\n",
       "      <td>0.00000</td>\n",
       "      <td>0.000000</td>\n",
       "      <td>51002.110000</td>\n",
       "      <td>0.000000</td>\n",
       "    </tr>\n",
       "    <tr>\n",
       "      <th>50%</th>\n",
       "      <td>5000.50000</td>\n",
       "      <td>1.569074e+07</td>\n",
       "      <td>652.000000</td>\n",
       "      <td>37.000000</td>\n",
       "      <td>5.000000</td>\n",
       "      <td>97198.540000</td>\n",
       "      <td>1.000000</td>\n",
       "      <td>1.00000</td>\n",
       "      <td>1.000000</td>\n",
       "      <td>100193.915000</td>\n",
       "      <td>0.000000</td>\n",
       "    </tr>\n",
       "    <tr>\n",
       "      <th>75%</th>\n",
       "      <td>7500.25000</td>\n",
       "      <td>1.575323e+07</td>\n",
       "      <td>718.000000</td>\n",
       "      <td>44.000000</td>\n",
       "      <td>7.000000</td>\n",
       "      <td>127644.240000</td>\n",
       "      <td>2.000000</td>\n",
       "      <td>1.00000</td>\n",
       "      <td>1.000000</td>\n",
       "      <td>149388.247500</td>\n",
       "      <td>0.000000</td>\n",
       "    </tr>\n",
       "    <tr>\n",
       "      <th>max</th>\n",
       "      <td>10000.00000</td>\n",
       "      <td>1.581569e+07</td>\n",
       "      <td>850.000000</td>\n",
       "      <td>92.000000</td>\n",
       "      <td>10.000000</td>\n",
       "      <td>250898.090000</td>\n",
       "      <td>4.000000</td>\n",
       "      <td>1.00000</td>\n",
       "      <td>1.000000</td>\n",
       "      <td>199992.480000</td>\n",
       "      <td>1.000000</td>\n",
       "    </tr>\n",
       "  </tbody>\n",
       "</table>\n",
       "</div>"
      ],
      "text/plain": [
       "         RowNumber    CustomerId   CreditScore           Age       Tenure  \\\n",
       "count  10000.00000  1.000000e+04  10000.000000  10000.000000  9091.000000   \n",
       "mean    5000.50000  1.569094e+07    650.528800     38.921800     4.997690   \n",
       "std     2886.89568  7.193619e+04     96.653299     10.487806     2.894723   \n",
       "min        1.00000  1.556570e+07    350.000000     18.000000     0.000000   \n",
       "25%     2500.75000  1.562853e+07    584.000000     32.000000     2.000000   \n",
       "50%     5000.50000  1.569074e+07    652.000000     37.000000     5.000000   \n",
       "75%     7500.25000  1.575323e+07    718.000000     44.000000     7.000000   \n",
       "max    10000.00000  1.581569e+07    850.000000     92.000000    10.000000   \n",
       "\n",
       "             Balance  NumOfProducts    HasCrCard  IsActiveMember  \\\n",
       "count   10000.000000   10000.000000  10000.00000    10000.000000   \n",
       "mean    76485.889288       1.530200      0.70550        0.515100   \n",
       "std     62397.405202       0.581654      0.45584        0.499797   \n",
       "min         0.000000       1.000000      0.00000        0.000000   \n",
       "25%         0.000000       1.000000      0.00000        0.000000   \n",
       "50%     97198.540000       1.000000      1.00000        1.000000   \n",
       "75%    127644.240000       2.000000      1.00000        1.000000   \n",
       "max    250898.090000       4.000000      1.00000        1.000000   \n",
       "\n",
       "       EstimatedSalary        Exited  \n",
       "count     10000.000000  10000.000000  \n",
       "mean     100090.239881      0.203700  \n",
       "std       57510.492818      0.402769  \n",
       "min          11.580000      0.000000  \n",
       "25%       51002.110000      0.000000  \n",
       "50%      100193.915000      0.000000  \n",
       "75%      149388.247500      0.000000  \n",
       "max      199992.480000      1.000000  "
      ]
     },
     "execution_count": 4,
     "metadata": {},
     "output_type": "execute_result"
    }
   ],
   "source": [
    "df.describe()"
   ]
  },
  {
   "cell_type": "code",
   "execution_count": 5,
   "metadata": {},
   "outputs": [
    {
     "data": {
      "text/plain": [
       "(10000, 14)"
      ]
     },
     "execution_count": 5,
     "metadata": {},
     "output_type": "execute_result"
    }
   ],
   "source": [
    "df.shape"
   ]
  },
  {
   "cell_type": "code",
   "execution_count": 6,
   "metadata": {},
   "outputs": [
    {
     "data": {
      "text/plain": [
       "0"
      ]
     },
     "execution_count": 6,
     "metadata": {},
     "output_type": "execute_result"
    }
   ],
   "source": [
    "df.duplicated().sum()"
   ]
  },
  {
   "cell_type": "code",
   "execution_count": 7,
   "metadata": {},
   "outputs": [
    {
     "data": {
      "text/plain": [
       "RowNumber            0\n",
       "CustomerId           0\n",
       "Surname              0\n",
       "CreditScore          0\n",
       "Geography            0\n",
       "Gender               0\n",
       "Age                  0\n",
       "Tenure             909\n",
       "Balance              0\n",
       "NumOfProducts        0\n",
       "HasCrCard            0\n",
       "IsActiveMember       0\n",
       "EstimatedSalary      0\n",
       "Exited               0\n",
       "dtype: int64"
      ]
     },
     "execution_count": 7,
     "metadata": {},
     "output_type": "execute_result"
    }
   ],
   "source": [
    "df.isnull().sum()"
   ]
  },
  {
   "cell_type": "code",
   "execution_count": 8,
   "metadata": {},
   "outputs": [
    {
     "data": {
      "text/plain": [
       "0"
      ]
     },
     "execution_count": 8,
     "metadata": {},
     "output_type": "execute_result"
    }
   ],
   "source": [
    "df.duplicated().sum()"
   ]
  },
  {
   "cell_type": "code",
   "execution_count": 9,
   "metadata": {},
   "outputs": [
    {
     "data": {
      "text/plain": [
       "0"
      ]
     },
     "execution_count": 9,
     "metadata": {},
     "output_type": "execute_result"
    }
   ],
   "source": [
    "df.duplicated('CustomerId').sum()"
   ]
  },
  {
   "cell_type": "code",
   "execution_count": 10,
   "metadata": {},
   "outputs": [],
   "source": [
    "# Handle missing values (impute with mean)\n",
    "df.fillna(df.median(), inplace=True)"
   ]
  },
  {
   "cell_type": "code",
   "execution_count": 11,
   "metadata": {},
   "outputs": [
    {
     "data": {
      "text/plain": [
       "RowNumber          0\n",
       "CustomerId         0\n",
       "Surname            0\n",
       "CreditScore        0\n",
       "Geography          0\n",
       "Gender             0\n",
       "Age                0\n",
       "Tenure             0\n",
       "Balance            0\n",
       "NumOfProducts      0\n",
       "HasCrCard          0\n",
       "IsActiveMember     0\n",
       "EstimatedSalary    0\n",
       "Exited             0\n",
       "dtype: int64"
      ]
     },
     "execution_count": 11,
     "metadata": {},
     "output_type": "execute_result"
    }
   ],
   "source": [
    "df.isnull().sum()"
   ]
  },
  {
   "cell_type": "code",
   "execution_count": 12,
   "metadata": {},
   "outputs": [
    {
     "data": {
      "text/plain": [
       "0    7963\n",
       "1    2037\n",
       "Name: Exited, dtype: int64"
      ]
     },
     "execution_count": 12,
     "metadata": {},
     "output_type": "execute_result"
    }
   ],
   "source": [
    "df['Exited'].value_counts()"
   ]
  },
  {
   "cell_type": "code",
   "execution_count": 13,
   "metadata": {},
   "outputs": [],
   "source": [
    "# Basic preprocessing\n",
    "# Drop irrelevant columns\n",
    "df.drop(columns=['RowNumber', 'CustomerId', 'Surname'], inplace=True)\n"
   ]
  },
  {
   "cell_type": "code",
   "execution_count": 14,
   "metadata": {},
   "outputs": [],
   "source": [
    "# Handle categorical variables\n",
    "df = pd.get_dummies(df, columns=['Geography', 'Gender'], drop_first=True)\n"
   ]
  },
  {
   "cell_type": "code",
   "execution_count": 15,
   "metadata": {},
   "outputs": [],
   "source": [
    "# Split data into features and target\n",
    "X = df.drop(columns=['Exited'])\n",
    "y = df['Exited']\n"
   ]
  },
  {
   "cell_type": "code",
   "execution_count": 16,
   "metadata": {},
   "outputs": [],
   "source": [
    "# Split data into train_val and test sets\n",
    "X_train_val, X_test, y_train_val, y_test = train_test_split(X, y, test_size=0.2, random_state=42)\n",
    "# Further split train_val into train and validation sets\n",
    "X_train, X_val, y_train, y_val = train_test_split(X_train_val, y_train_val, test_size=0.25, random_state=42)\n"
   ]
  },
  {
   "cell_type": "code",
   "execution_count": 17,
   "metadata": {},
   "outputs": [
    {
     "name": "stdout",
     "output_type": "stream",
     "text": [
      "Training set size: 6000\n",
      "Validation set size: 2000\n",
      "Testing set size: 2000\n"
     ]
    }
   ],
   "source": [
    "# Check the sizes of the sets\n",
    "print(\"Training set size:\", X_train.shape[0])\n",
    "print(\"Validation set size:\", X_val.shape[0])\n",
    "print(\"Testing set size:\", X_test.shape[0])"
   ]
  },
  {
   "cell_type": "code",
   "execution_count": 18,
   "metadata": {},
   "outputs": [],
   "source": [
    "# Initialize the scaler\n",
    "scaler = StandardScaler()  # or MinMaxScaler()\n",
    "\n",
    "# Fit and transform the training data\n",
    "X_train_scaled = scaler.fit_transform(X_train)\n",
    "\n",
    "# Transform the validation and testing data using the same scaler\n",
    "X_val_scaled = scaler.transform(X_val)\n"
   ]
  },
  {
   "cell_type": "code",
   "execution_count": 19,
   "metadata": {},
   "outputs": [],
   "source": [
    "## Create interaction terms to capture the combined effect of 'Balance' and 'NumOfProducts'\n",
    "# Interaction terms can help the model capture nonlinear relationships between features\n",
    "interaction_features = df['Balance'] * df['NumOfProducts']\n",
    "\n",
    "# Create polynomial features with degree=2\n",
    "# Polynomial features can capture higher-order relationships between features\n",
    "poly_features = PolynomialFeatures(degree=2, include_bias=False)\n",
    "polynomial_df = poly_features.fit_transform(df)\n",
    "\n",
    "# Including interaction and polynomial features may improve the model's ability to capture complex relationships\n",
    "# It's a common practice in machine learning to experiment with various feature engineering techniques\n",
    "# to enhance model performance"
   ]
  },
  {
   "cell_type": "markdown",
   "metadata": {},
   "source": [
    "In this cell, we're adding interaction and polynomial features to the dataset. Interaction terms are created by multiplying two or more existing features, which can help capture combined effects that might be missed by individual features alone. Polynomial features, on the other hand, can capture higher-order relationships between features, allowing the model to learn more complex patterns in the data.\n",
    "\n",
    "The decision to add these features is based on the hypothesis that they may improve the model's performance by providing it with more information about the underlying relationships in the data. However, it's essential to experiment with different feature engineering techniques to validate this hypothesis and select the ones that lead to the best model performance."
   ]
  },
  {
   "cell_type": "code",
   "execution_count": 20,
   "metadata": {},
   "outputs": [
    {
     "data": {
      "image/png": "[encoded data removed]",
      "text/plain": [
       "<Figure size 864x576 with 6 Axes>"
      ]
     },
     "metadata": {
      "needs_background": "light"
     },
     "output_type": "display_data"
    }
   ],
   "source": [
    "# Histograms for numerical variables\n",
    "num_vars = ['CreditScore', 'Age', 'Tenure', 'Balance', 'NumOfProducts', 'EstimatedSalary']\n",
    "plt.figure(figsize=(12, 8))\n",
    "for i, var in enumerate(num_vars, 1):\n",
    "    plt.subplot(3, 3, i)\n",
    "    sns.histplot(df[var], bins=20, kde=True)\n",
    "    plt.title(f'Histogram of {var}')\n",
    "    plt.xlabel(var)\n",
    "    plt.ylabel(f'No of {var}')\n",
    "plt.tight_layout()\n",
    "plt.show()"
   ]
  },
  {
   "cell_type": "code",
   "execution_count": 21,
   "metadata": {},
   "outputs": [
    {
     "data": {
      "image/png": "[encoded data removed]",
      "text/plain": [
       "<Figure size 864x576 with 6 Axes>"
      ]
     },
     "metadata": {
      "needs_background": "light"
     },
     "output_type": "display_data"
    }
   ],
   "source": [
    "# Box plots for numerical variables\n",
    "plt.figure(figsize=(12, 8))\n",
    "for i, var in enumerate(num_vars, 1):\n",
    "    plt.subplot(3, 3, i)\n",
    "    sns.boxplot(data=df, y=var)\n",
    "    plt.title(f'Box Plot of {var}')\n",
    "    plt.ylabel(f'No of {var}')\n",
    "plt.tight_layout()\n",
    "plt.show()"
   ]
  },
  {
   "cell_type": "code",
   "execution_count": 22,
   "metadata": {},
   "outputs": [
    {
     "data": {
      "image/png": "[encoded data removed]",
      "text/plain": [
       "<Figure size 720x576 with 2 Axes>"
      ]
     },
     "metadata": {
      "needs_background": "light"
     },
     "output_type": "display_data"
    }
   ],
   "source": [
    "# Correlation matrix heatmap\n",
    "plt.figure(figsize=(10, 8))\n",
    "sns.heatmap(df.corr(), annot=True, cmap='coolwarm', fmt='.2f', linewidths=0.5)\n",
    "plt.title('Correlation Matrix Heatmap')\n",
    "plt.show()"
   ]
  },
  {
   "cell_type": "markdown",
   "metadata": {},
   "source": [
    "From the representation above we can summarize that most of client of Beta Bank has a credit score between 600 to 750 with their age being in mostly late 30's or early 40's. Most of the clients has a tenure of 5 years and has maintained a balance between $10,000 to $15,000. Since we need to predict if a customer will leave the bank soon, we will look at the Exited column in the heatmap above to understand the relation why customer is. leaving due to varous factors. \n",
    "\n",
    "In a correlation matrix heatmap that includes these variables, you would see how each pair of variables relates to one another. For binary variables like \"HasCrCard,\" \"IsActiveMember,\" and \"Exited,\" the correlations can give insights into the relationships between having a credit card, being an active member, and exiting. For example, you might look for:\n",
    "\n",
    "Any positive or negative correlations between being an \"IsActiveMember\" and \"Exited\" to see if active members are less likely to exit.\n",
    "The relationship between \"HasCrCard\" and \"Exited\" to understand if owning a credit card impacts a customer's decision to stay or leave.\n",
    "Correlation between \"EstimatedSalary\" and other factors to explore how salary might influence a customer's activity status or decision to exit.\n",
    "\n",
    "Correlation coefficients range from -1 to 1, where:\n",
    "1 indicates a strong positive correlation,\n",
    "-1 indicates a strong negative correlation,ed S\n",
    "0 means no linear correlation.\n",
    "Credit Score, Tenure, No of Products, has Card, Is active Member, Spain and Male has Negative or inverse corelation. This means if any of these variables increase, customers will be less likely to leave. \n",
    "\n",
    "On the other hand, Age, Balance, estimated salary and Germany has positive corelation. Thus as any of these increase, no of exited customer will increase as well. with increasing age, increase bank balance, increase in salary or increase in customer in Germany will make customers exit Beta bank and switch to other banks. \n",
    "Given this correlation, a business might consider tailoring its customer retention strategies to better meet the needs and preferences of older customers, potentially addressing the specific reasons this demographic might have for leaving. However, it's crucial to explore deeper, looking into qualitative data and other quantitative factors, to fully understand the drivers behind this trend and address them effectively in retention efforts."
   ]
  },
  {
   "cell_type": "markdown",
   "metadata": {},
   "source": [
    "# Question 2\n",
    "\n",
    "Examine the balance of classes. Train the model without taking into account the imbalance. Briefly describe your findings."
   ]
  },
  {
   "cell_type": "code",
   "execution_count": 23,
   "metadata": {},
   "outputs": [
    {
     "data": {
      "image/png": "[encoded data removed]",
      "text/plain": [
       "<Figure size 576x360 with 1 Axes>"
      ]
     },
     "metadata": {
      "needs_background": "light"
     },
     "output_type": "display_data"
    }
   ],
   "source": [
    "# Examine the balance of classes visually\n",
    "plt.figure(figsize=(8, 5))\n",
    "sns.countplot(data=df, x='Exited')\n",
    "plt.title('Class Distribution')\n",
    "plt.xlabel('Exited')\n",
    "plt.ylabel('Count')\n",
    "plt.show()"
   ]
  },
  {
   "cell_type": "markdown",
   "metadata": {},
   "source": [
    "The numbers provided in the output indicate the proportion of each class within the dataset:\n",
    "\n",
    "Class 0 has a proportion of approximately 79.63% (0.7963), meaning that about 79.63% of the instances in the dataset correspond to customers who have not left the bank.\n",
    "Class 1 has a proportion of approximately 20.37% (0.2037), indicating that about 20.37% of the instances correspond to customers who have left the bank."
   ]
  },
  {
   "cell_type": "code",
   "execution_count": 24,
   "metadata": {},
   "outputs": [
    {
     "name": "stdout",
     "output_type": "stream",
     "text": [
      "Model Performance Without Balancing for Scaled Data(Logistic Regression - Validation Set):\n",
      "              precision    recall  f1-score   support\n",
      "\n",
      "           0       0.82      0.97      0.89      1587\n",
      "           1       0.61      0.21      0.31       413\n",
      "\n",
      "    accuracy                           0.81      2000\n",
      "   macro avg       0.72      0.59      0.60      2000\n",
      "weighted avg       0.78      0.81      0.77      2000\n",
      "\n",
      "AUC-ROC Score (Validation Set): 0.7835790495109326\n"
     ]
    }
   ],
   "source": [
    "#Logistic Regression Model for Scaled Data\n",
    "# Train logistic regression model\n",
    "lr_model = LogisticRegression(random_state=42)\n",
    "lr_model.fit(X_train_scaled, y_train)\n",
    "\n",
    "# Evaluate model on validation set\n",
    "y_pred_val_lr_sc = lr_model.predict(X_val_scaled)\n",
    "y_prob_val_lr_sc = lr_model.predict_proba(X_val_scaled)[:, 1]\n",
    "\n",
    "# Calculate AUC-ROC score for validation set\n",
    "auc_lr_val = roc_auc_score(y_val, y_prob_val_lr_sc)\n",
    "\n",
    "# Print classification report for validation set\n",
    "print(\"Model Performance Without Balancing for Scaled Data(Logistic Regression - Validation Set):\")\n",
    "print(classification_report(y_val, y_pred_val_lr_sc))\n",
    "print(\"AUC-ROC Score (Validation Set):\", auc_lr_val)"
   ]
  },
  {
   "cell_type": "code",
   "execution_count": 25,
   "metadata": {},
   "outputs": [
    {
     "name": "stdout",
     "output_type": "stream",
     "text": [
      "Model Performance Without Balancing for Scaled Data(Random Forest - Validation Set):\n",
      "              precision    recall  f1-score   support\n",
      "\n",
      "           0       0.88      0.96      0.92      1587\n",
      "           1       0.78      0.48      0.59       413\n",
      "\n",
      "    accuracy                           0.86      2000\n",
      "   macro avg       0.83      0.72      0.76      2000\n",
      "weighted avg       0.86      0.86      0.85      2000\n",
      "\n",
      "AUC-ROC Score (Validation Set): 0.8575265741168788\n"
     ]
    }
   ],
   "source": [
    "#Random Forest Model for Scaled Data\n",
    "# Train Random Forest model\n",
    "rf_model = RandomForestClassifier(random_state=42)\n",
    "rf_model.fit(X_train_scaled, y_train)\n",
    "\n",
    "# Evaluate model on validation set\n",
    "y_pred_val_rf_sc = rf_model.predict(X_val_scaled)\n",
    "y_prob_val_rf_sc = rf_model.predict_proba(X_val_scaled)[:, 1]\n",
    "\n",
    "# Calculate AUC-ROC score for validation set\n",
    "auc_rf_val = roc_auc_score(y_val, y_prob_val_rf_sc)\n",
    "\n",
    "# Print classification report for validation set\n",
    "print(\"Model Performance Without Balancing for Scaled Data(Random Forest - Validation Set):\")\n",
    "print(classification_report(y_val, y_pred_val_rf_sc))\n",
    "print(\"AUC-ROC Score (Validation Set):\", auc_rf_val)"
   ]
  },
  {
   "cell_type": "code",
   "execution_count": 26,
   "metadata": {},
   "outputs": [
    {
     "name": "stdout",
     "output_type": "stream",
     "text": [
      "Model Performance Without Balancing for Scaled Data(Gradient Boosting - Validation Set):\n",
      "              precision    recall  f1-score   support\n",
      "\n",
      "           0       0.88      0.96      0.92      1587\n",
      "           1       0.78      0.48      0.59       413\n",
      "\n",
      "    accuracy                           0.86      2000\n",
      "   macro avg       0.83      0.72      0.76      2000\n",
      "weighted avg       0.86      0.86      0.85      2000\n",
      "\n",
      "AUC-ROC Score (Validation Set): 0.8692600746684241\n"
     ]
    }
   ],
   "source": [
    "#Gradient Boosting Model for Scaled Data\n",
    "# Train Gradient Boosting model\n",
    "gb_model = GradientBoostingClassifier()\n",
    "gb_model.fit(X_train_scaled, y_train)\n",
    "\n",
    "# Evaluate model on validation set\n",
    "y_pred_val = gb_model.predict(X_val_scaled)\n",
    "y_prob_val = gb_model.predict_proba(X_val_scaled)[:, 1]\n",
    "\n",
    "# Calculate AUC-ROC score for validation set\n",
    "auc_gb_val = roc_auc_score(y_val, y_prob_val)\n",
    "\n",
    "# Print classification report for validation set\n",
    "print(\"Model Performance Without Balancing for Scaled Data(Gradient Boosting - Validation Set):\")\n",
    "print(classification_report(y_val, y_pred_val))\n",
    "print(\"AUC-ROC Score (Validation Set):\", auc_gb_val)"
   ]
  },
  {
   "cell_type": "markdown",
   "metadata": {},
   "source": [
    "F1-score:\n",
    "F1-score is the harmonic mean of precision and recall. It is a measure of a model's accuracy, particularly useful when dealing with imbalanced classes.\n",
    "For class 1 (Exited), which is often the minority class in churn prediction problems, higher F1-score indicates better performance in correctly identifying customers who are likely to churn.\n",
    "\n",
    "In our results:\n",
    "Logistic Regression (Scaled Data) has an F1-score of 0.31 for class 1, indicating moderate performance.\n",
    "Random Forest (Scaled Data) has a higher F1-score of 0.57 for class 1, suggesting better performance than logistic regression.\n",
    "Gradient Boosting (Scaled Data) has a lower F1-score of 0.13 for class 1, indicating poorer performance compared to the other models.\n",
    "\n",
    "AUC-ROC Score:\n",
    "The Area Under the Receiver Operating Characteristic Curve (AUC-ROC) is a measure of the model's ability to distinguish between the positive and negative classes.\n",
    "It represents the model's ability to rank true positives higher than false positives across different threshold values.\n",
    "\n",
    "In our results:\n",
    "Logistic Regression (Scaled Data) achieves an AUC-ROC score of 0.784, indicating reasonable discriminative power.\n",
    "Random Forest (Scaled Data) achieves a higher AUC-ROC score of 0.857, suggesting better overall performance in class separation than logistic regression.\n",
    "Gradient Boosting (Scaled Data) achieves the highest AUC-ROC score of 0.869, indicating the best ability to distinguish between the positive and negative classes.\n",
    "\n",
    "\n",
    "Conclusion:\n",
    "Considering both F1-score and AUC-ROC score, Gradient Boosting (Scaled Data) emerges as the best model among the three. It demonstrates the highest AUC-ROC score, indicating superior performance in distinguishing between churn and non-churn customers, which is crucial for accurate churn prediction. However, it's important to note that these results are based on the validation set, and further evaluation on an independent test set is necessary to confirm the model's generalization performance."
   ]
  },
  {
   "cell_type": "markdown",
   "metadata": {},
   "source": [
    "# Question 3\n",
    "Improve the quality of the model. Make sure you use at least two approaches to fixing class imbalance. Use the training set to pick the best parameters. Train different models on training and validation sets. Find the best one. Briefly describe your findings."
   ]
  },
  {
   "cell_type": "markdown",
   "metadata": {},
   "source": [
    "To improve the quality of the model and address the class imbalance issue, we can use two common approaches:\n",
    "\n",
    "Resampling Techniques: This involves either oversampling the minority class (e.g., Synthetic Minority Over-sampling Technique - SMOTE) or undersampling the majority class to balance the class distribution.\n",
    "\n",
    "Algorithmic Techniques: Some machine learning algorithms have built-in mechanisms to handle class imbalance, such as adjusting class weights or using algorithms specifically designed for imbalanced datasets (e.g., Balanced Random Forest, AdaBoost).\n",
    "\n",
    "Here's a step-by-step approach to improving the model's quality:\n",
    "\n",
    "Split Data: Split the dataset into training and validation sets.\n",
    "\n",
    "Resampling: Apply resampling techniques such as Random Oversampling, Random Undersampling, or SMOTE to balance the class distribution in the training set.\n",
    "\n",
    "Parameter Tuning: Use the training set to tune the hyperparameters of different models (e.g., Logistic Regression, Random Forest, Gradient Boosting).\n",
    "\n",
    "Model Training: Train different models (e.g., Logistic Regression, Random Forest, Gradient Boosting) on the balanced training set.\n",
    "\n",
    "Model Evaluation: Evaluate the trained models on the balanced validation set using appropriate evaluation metrics (e.g., accuracy, precision, recall, F1-score).\n",
    "\n",
    "Select Best Model: Select the model with the best performance on the validation set."
   ]
  },
  {
   "cell_type": "code",
   "execution_count": 27,
   "metadata": {},
   "outputs": [],
   "source": [
    "# Calculate class weights\n",
    "class_weights = 'balanced'"
   ]
  },
  {
   "cell_type": "code",
   "execution_count": 28,
   "metadata": {},
   "outputs": [],
   "source": [
    "# Define classifiers\n",
    "classifiers = {\n",
    "    \"Logistic Regression\": LogisticRegression(class_weight=class_weights),\n",
    "    \"Random Forest\": RandomForestClassifier(class_weight=class_weights),\n",
    "    \"Gradient Boosting\": GradientBoostingClassifier()\n",
    "}"
   ]
  },
  {
   "cell_type": "code",
   "execution_count": 29,
   "metadata": {},
   "outputs": [
    {
     "name": "stdout",
     "output_type": "stream",
     "text": [
      "Classification Report for Logistic Regression:\n",
      "              precision    recall  f1-score   support\n",
      "\n",
      "           0       0.89      0.68      0.77      1587\n",
      "           1       0.35      0.67      0.46       413\n",
      "\n",
      "    accuracy                           0.67      2000\n",
      "   macro avg       0.62      0.67      0.61      2000\n",
      "weighted avg       0.78      0.67      0.70      2000\n",
      "\n",
      "Classification Report for Random Forest:\n",
      "              precision    recall  f1-score   support\n",
      "\n",
      "           0       0.87      0.97      0.92      1587\n",
      "           1       0.79      0.47      0.59       413\n",
      "\n",
      "    accuracy                           0.86      2000\n",
      "   macro avg       0.83      0.72      0.75      2000\n",
      "weighted avg       0.86      0.86      0.85      2000\n",
      "\n",
      "Classification Report for Gradient Boosting:\n",
      "              precision    recall  f1-score   support\n",
      "\n",
      "           0       0.88      0.96      0.92      1587\n",
      "           1       0.78      0.48      0.59       413\n",
      "\n",
      "    accuracy                           0.86      2000\n",
      "   macro avg       0.83      0.72      0.76      2000\n",
      "weighted avg       0.86      0.86      0.85      2000\n",
      "\n"
     ]
    }
   ],
   "source": [
    "# Train and evaluate models\n",
    "for clf_name, clf in classifiers.items():\n",
    "    clf.fit(X_train, y_train)\n",
    "    y_pred = clf.predict(X_val)\n",
    "    print(f\"Classification Report for {clf_name}:\")\n",
    "    print(classification_report(y_val, y_pred))"
   ]
  },
  {
   "cell_type": "markdown",
   "metadata": {},
   "source": [
    "Based on the classification reports provided for Logistic Regression, Random Forest, and Gradient Boosting models, we can draw the following conclusions:\n",
    "\n",
    "Logistic Regression:\n",
    "\n",
    "Precision for class 0 (customers not leaving) is high at 0.89, indicating that when the model predicts a customer will not leave, it is correct 89% of the time.\n",
    "Recall for class 1 (customers leaving) is relatively high at 0.69, suggesting that the model correctly identifies 69% of the customers who left.\n",
    "However, the F1-score for class 1 is relatively low at 0.43, indicating that the balance between precision and recall for customers leaving is not optimal.\n",
    "The overall accuracy of the logistic regression model is 0.64.\n",
    "Random Forest:\n",
    "\n",
    "Random Forest achieves higher precision, recall, and F1-score for both classes compared to Logistic Regression.\n",
    "It demonstrates a higher precision for predicting customers leaving (class 1) at 0.79, indicating that it correctly identifies 79% of the customers who left.\n",
    "The overall accuracy of the Random Forest model is higher at 0.87 compared to Logistic Regression.\n",
    "Gradient Boosting:\n",
    "\n",
    "Gradient Boosting shows similar performance to Random Forest, with slightly lower precision, recall, and F1-score for class 1 compared to Random Forest.\n",
    "However, it achieves a higher recall for predicting customers not leaving (class 0) at 0.96, indicating that it correctly identifies 96% of the customers who did not leave.\n",
    "The overall accuracy of the Gradient Boosting model is also 0.87, similar to Random Forest.\n",
    "In conclusion, both Random Forest and Gradient Boosting models outperform Logistic Regression in terms of precision, recall, F1-score, and overall accuracy. Among the two, Random Forest may be preferred due to its higher precision for predicting customers leaving. However, further fine-tuning and evaluation on additional metrics may be necessary to determine the best-performing model for the specific task at hand.\n"
   ]
  },
  {
   "cell_type": "markdown",
   "metadata": {},
   "source": [
    "# Question 4\n",
    "Perform the final testing"
   ]
  },
  {
   "cell_type": "markdown",
   "metadata": {},
   "source": [
    "Based on the provided classification reports for Logistic Regression, Random Forest, and Gradient Boosting, we can see the performance metrics including precision, recall, f1-score, and accuracy for each class (0 and 1), as well as their macro-averaged and weighted-averaged values.\n",
    "\n",
    "To perform the final testing, we would typically follow these steps:\n",
    "\n",
    "Load the Test Data: Load the test dataset on which we want to evaluate the models.\n",
    "\n",
    "Preprocess the Test Data: Preprocess the test data in the same way as the training data, including feature scaling, encoding categorical variables, and creating any necessary new features.\n",
    "\n",
    "Load Trained Models: Load the trained Logistic Regression, Random Forest, and Gradient Boosting models that were previously trained on the training data.\n",
    "\n",
    "Predict on Test Data: Use each loaded model to make predictions on the test data.\n",
    "\n",
    "Evaluate Model Performance: Calculate evaluation metrics such as accuracy, precision, recall, and f1-score for each model based on the predicted labels and the actual labels of the test data.\n",
    "\n",
    "Compare Performance: Compare the performance of the three models based on the evaluation metrics. Identify which model performs the best on the test data.\n",
    "\n",
    "Conclusion: Draw conclusions about the effectiveness of each model in making predictions on unseen data and select the best-performing model for deployment."
   ]
  },
  {
   "cell_type": "code",
   "execution_count": 30,
   "metadata": {},
   "outputs": [],
   "source": [
    "def upsample(features, target, repeat):\n",
    "    features_zeros = features[target == 0]\n",
    "    features_ones = features[target == 1]\n",
    "    target_zeros = target[target == 0]\n",
    "    target_ones = target[target == 1]\n",
    "\n",
    "    features_upsampled = pd.concat([features_zeros] + [features_ones] * repeat)\n",
    "    target_upsampled = pd.concat([target_zeros] + [target_ones] * repeat)\n",
    "\n",
    "    features_upsampled, target_upsampled = shuffle(\n",
    "        features_upsampled, target_upsampled, random_state=12345\n",
    "    )\n",
    "\n",
    "    return features_upsampled, target_upsampled"
   ]
  },
  {
   "cell_type": "code",
   "execution_count": 31,
   "metadata": {},
   "outputs": [
    {
     "data": {
      "text/plain": [
       "(9693, 11)"
      ]
     },
     "execution_count": 31,
     "metadata": {},
     "output_type": "execute_result"
    }
   ],
   "source": [
    "X_train_up, y_train_up = upsample(X_train, y_train, 4)\n",
    "X_train_up.shape"
   ]
  },
  {
   "cell_type": "code",
   "execution_count": 32,
   "metadata": {},
   "outputs": [
    {
     "data": {
      "text/plain": [
       "(array([0, 1]), array([4769, 4924]))"
      ]
     },
     "execution_count": 32,
     "metadata": {},
     "output_type": "execute_result"
    }
   ],
   "source": [
    "# check the classes balance\n",
    "np.unique(y_train_up, return_counts=True)"
   ]
  },
  {
   "cell_type": "code",
   "execution_count": 33,
   "metadata": {},
   "outputs": [
    {
     "name": "stdout",
     "output_type": "stream",
     "text": [
      "Logistic Regression Model:\n",
      "              precision    recall  f1-score   support\n",
      "\n",
      "           0       0.80      0.97      0.88      1587\n",
      "           1       0.38      0.06      0.10       413\n",
      "\n",
      "    accuracy                           0.79      2000\n",
      "   macro avg       0.59      0.52      0.49      2000\n",
      "weighted avg       0.71      0.79      0.72      2000\n",
      "\n",
      "ROC-AUC:  0.6787991413283778\n",
      "\n",
      "Logistic Regression Model - Random Oversampling:\n",
      "              precision    recall  f1-score   support\n",
      "\n",
      "           0       0.89      0.64      0.75      1587\n",
      "           1       0.34      0.70      0.45       413\n",
      "\n",
      "    accuracy                           0.66      2000\n",
      "   macro avg       0.61      0.67      0.60      2000\n",
      "weighted avg       0.78      0.66      0.69      2000\n",
      "\n",
      "ROC-AUC:  0.7135289603329718\n"
     ]
    }
   ],
   "source": [
    "# Initialize Logistic Regression Upsampling model\n",
    "lr_model = LogisticRegression(max_iter=1000, random_state=42)\n",
    "lr_model_up = LogisticRegression(max_iter=1000, random_state=42)\n",
    "\n",
    "# Train model\n",
    "lr_model.fit(X_train, y_train)\n",
    "lr_model_up.fit(X_train_up, y_train_up)\n",
    "\n",
    "probs = lr_model.predict_proba(X_val)[:, 1]\n",
    "roc_auc_score(y_val, probs)\n",
    "\n",
    "print(\"Logistic Regression Model:\")\n",
    "y_pred_lr = lr_model.predict(X_val)\n",
    "print(classification_report(y_val, y_pred_lr))\n",
    "print(\"ROC-AUC: \", end=\" \")\n",
    "probs = lr_model.predict_proba(X_val)[:, 1]\n",
    "print(roc_auc_score(y_val, probs))\n",
    "print()\n",
    "\n",
    "print(\"Logistic Regression Model - Random Oversampling:\")\n",
    "y_pred_lr_up = lr_model_up.predict(X_val)\n",
    "print(classification_report(y_val, y_pred_lr_up))\n",
    "print(\"ROC-AUC: \", end=\" \")\n",
    "probs = lr_model_up.predict_proba(X_val)[:, 1]\n",
    "print(roc_auc_score(y_val, probs))"
   ]
  },
  {
   "cell_type": "code",
   "execution_count": 34,
   "metadata": {},
   "outputs": [
    {
     "name": "stdout",
     "output_type": "stream",
     "text": [
      "Random Forest Model:\n",
      "              precision    recall  f1-score   support\n",
      "\n",
      "           0       0.88      0.97      0.92      1587\n",
      "           1       0.78      0.48      0.60       413\n",
      "\n",
      "    accuracy                           0.87      2000\n",
      "   macro avg       0.83      0.72      0.76      2000\n",
      "weighted avg       0.86      0.87      0.85      2000\n",
      "\n",
      "ROC-AUC:  0.8573595084761019\n",
      "\n",
      "Random Forest Model - Random Oversampling:\n",
      "              precision    recall  f1-score   support\n",
      "\n",
      "           0       0.89      0.92      0.91      1587\n",
      "           1       0.65      0.57      0.61       413\n",
      "\n",
      "    accuracy                           0.85      2000\n",
      "   macro avg       0.77      0.75      0.76      2000\n",
      "weighted avg       0.84      0.85      0.84      2000\n",
      "\n",
      "ROC-AUC:  0.8616879580001556\n"
     ]
    }
   ],
   "source": [
    "# Initialize Random Forest Upsampling model\n",
    "rf_model = RandomForestClassifier(random_state=42)\n",
    "rf_model_up = RandomForestClassifier(random_state=42)\n",
    "\n",
    "#Train Model\n",
    "rf_model.fit(X_train, y_train)\n",
    "rf_model_up.fit(X_train_up, y_train_up)\n",
    "\n",
    "probs = rf_model.predict_proba(X_val)[:, 1]\n",
    "roc_auc_score(y_val, probs)\n",
    "\n",
    "\n",
    "print(\"Random Forest Model:\")\n",
    "y_pred_rf = rf_model.predict(X_val)\n",
    "print(classification_report(y_val, y_pred_rf))\n",
    "print(\"ROC-AUC: \", end=\" \")\n",
    "probs = rf_model.predict_proba(X_val)[:, 1]\n",
    "print(roc_auc_score(y_val, probs))\n",
    "print()\n",
    "\n",
    "print(\"Random Forest Model - Random Oversampling:\")\n",
    "y_pred_rf_up = rf_model_up.predict(X_val)\n",
    "print(classification_report(y_val, y_pred_rf_up))\n",
    "print(\"ROC-AUC: \", end=\" \")\n",
    "probs = rf_model_up.predict_proba(X_val)[:, 1]\n",
    "print(roc_auc_score(y_val, probs))"
   ]
  },
  {
   "cell_type": "code",
   "execution_count": 35,
   "metadata": {},
   "outputs": [
    {
     "name": "stdout",
     "output_type": "stream",
     "text": [
      "Gradient Boosting Model:\n",
      "              precision    recall  f1-score   support\n",
      "\n",
      "           0       0.88      0.96      0.92      1587\n",
      "           1       0.78      0.48      0.59       413\n",
      "\n",
      "    accuracy                           0.86      2000\n",
      "   macro avg       0.83      0.72      0.76      2000\n",
      "weighted avg       0.86      0.86      0.85      2000\n",
      "\n",
      "ROC-AUC:  0.8692356632505939\n",
      "\n",
      "Gradient Boosting Model - Random Oversampling:\n",
      "              precision    recall  f1-score   support\n",
      "\n",
      "           0       0.93      0.81      0.87      1587\n",
      "           1       0.51      0.77      0.62       413\n",
      "\n",
      "    accuracy                           0.80      2000\n",
      "   macro avg       0.72      0.79      0.74      2000\n",
      "weighted avg       0.84      0.80      0.81      2000\n",
      "\n",
      "ROC-AUC:  0.8705210769707261\n"
     ]
    }
   ],
   "source": [
    "# Initialize Gradient Boostin Upsampling Model\n",
    "gb_model = GradientBoostingClassifier(random_state=42)\n",
    "gb_model_up = GradientBoostingClassifier(random_state=42)\n",
    "\n",
    "#Train Model\n",
    "gb_model.fit(X_train, y_train)\n",
    "gb_model_up.fit(X_train_up, y_train_up)\n",
    "\n",
    "probs = gb_model.predict_proba(X_val)[:, 1]\n",
    "roc_auc_score(y_val, probs)\n",
    "\n",
    "print(\"Gradient Boosting Model:\")\n",
    "y_pred_gb = gb_model.predict(X_val)\n",
    "print(classification_report(y_val, y_pred_gb))\n",
    "print(\"ROC-AUC: \", end=\" \")\n",
    "probs = gb_model.predict_proba(X_val)[:, 1]\n",
    "print(roc_auc_score(y_val, probs))\n",
    "print()\n",
    "\n",
    "print(\"Gradient Boosting Model - Random Oversampling:\")\n",
    "y_pred_gb_up = gb_model_up.predict(X_val)\n",
    "print(classification_report(y_val, y_pred_gb_up))\n",
    "print(\"ROC-AUC: \", end=\" \")\n",
    "probs = gb_model_up.predict_proba(X_val)[:, 1]\n",
    "print(roc_auc_score(y_val, probs))"
   ]
  },
  {
   "cell_type": "code",
   "execution_count": null,
   "metadata": {},
   "outputs": [],
   "source": []
  },
  {
   "cell_type": "code",
   "execution_count": 39,
   "metadata": {},
   "outputs": [],
   "source": [
    "# Downsampling\n",
    "# Convert X_train_scaled to DataFrame\n",
    "X_train_scaled_df = pd.DataFrame(X_train_scaled, columns=X_train.columns)\n",
    "\n",
    "# Concatenate X_train_scaled_df and y_train\n",
    "train_data = pd.concat([X_train_scaled_df, y_train], axis=1)\n",
    "\n",
    "# Separate majority and minority classes\n",
    "majority_class = train_data[train_data['Exited'] == 0]\n",
    "minority_class = train_data[train_data['Exited'] == 1]\n",
    "\n",
    "# Downsample majority class\n",
    "majority_downsampled = resample(majority_class, \n",
    "                                 replace=False,    # sample without replacement\n",
    "                                 n_samples=len(minority_class),  # to match minority class\n",
    "                                 random_state=42)  # reproducible results\n",
    "\n",
    "# Combine minority class with downsampled majority class\n",
    "downsampled = pd.concat([majority_downsampled, minority_class])\n",
    "\n",
    "# Separate features and target variable\n",
    "X_train_downsampled = downsampled.drop('Exited', axis=1)\n",
    "y_train_downsampled = downsampled['Exited']"
   ]
  },
  {
   "cell_type": "code",
   "execution_count": 64,
   "metadata": {},
   "outputs": [
    {
     "name": "stdout",
     "output_type": "stream",
     "text": [
      "Accuracy: 0.56\n",
      "Classification Report:\n",
      "              precision    recall  f1-score   support\n",
      "\n",
      "           0       0.85      0.54      0.66      1587\n",
      "           1       0.26      0.63      0.37       413\n",
      "\n",
      "    accuracy                           0.56      2000\n",
      "   macro avg       0.56      0.59      0.52      2000\n",
      "weighted avg       0.73      0.56      0.60      2000\n",
      "\n",
      "AUC-ROC Score for Logistic Regression Downsampling (Validation Set): 0.8692600746684241\n"
     ]
    }
   ],
   "source": [
    "# Initialize logistic regression model\n",
    "lr_model = LogisticRegression(random_state=42)\n",
    "lr_model_dn = LogisticRegression(random_state=42)\n",
    "\n",
    "# Instantiate the SimpleImputer with strategy='mean'\n",
    "imputer = SimpleImputer(strategy='mean')\n",
    "\n",
    "# Fit the imputer on X_train_downsampled and transform X_train_downsampled\n",
    "X_train_downsampled_imputed = imputer.fit_transform(X_train_downsampled)\n",
    "\n",
    "# Check for infinite values\n",
    "X_train_downsampled_imputed_finite = X_train_downsampled_imputed[isfinite(X_train_downsampled_imputed).all(axis=1)]\n",
    "\n",
    "# Train the model on the cleaned dataset\n",
    "lr_model_dn.fit(X_train_downsampled_imputed_finite, y_train_downsampled)\n",
    "\n",
    "# Fit the logistic regression model on the downsampled and imputed training data\n",
    "lr_model_dn.fit(X_train_downsampled_imputed_finite, y_train_downsampled)\n",
    "\n",
    "# Predict on the validation set\n",
    "y_pred_val = lr_model_dn.predict(X_val_scaled)\n",
    "\n",
    "# Calculate AUC-ROC score for the validation set\n",
    "auc_roc_score = roc_auc_score(y_val, y_prob_val)\n",
    "\n",
    "# Evaluate the model\n",
    "accuracy = accuracy_score(y_val, y_pred_val)\n",
    "print(\"Accuracy:\", accuracy)\n",
    "\n",
    "# Classification report\n",
    "print(\"Classification Report:\")\n",
    "print(classification_report(y_val, y_pred_val))\n",
    "print(\"AUC-ROC Score for Logistic Regression Downsampling (Validation Set):\", auc_roc_score)"
   ]
  },
  {
   "cell_type": "code",
   "execution_count": 65,
   "metadata": {},
   "outputs": [
    {
     "name": "stdout",
     "output_type": "stream",
     "text": [
      "Accuracy: 0.56\n",
      "Classification Report:\n",
      "              precision    recall  f1-score   support\n",
      "\n",
      "           0       0.85      0.54      0.66      1587\n",
      "           1       0.26      0.63      0.37       413\n",
      "\n",
      "    accuracy                           0.56      2000\n",
      "   macro avg       0.56      0.59      0.52      2000\n",
      "weighted avg       0.73      0.56      0.60      2000\n",
      "\n",
      "AUC-ROC Score for Random Forest Downsampling (Validation Set): 0.5384014488176482\n"
     ]
    }
   ],
   "source": [
    "# Initialize the Random Forest classifier\n",
    "rf_model_dn = RandomForestClassifier(random_state=42)\n",
    "\n",
    "# Fit the Random Forest model on the downsampled and imputed training data\n",
    "rf_model_dn.fit(X_train_downsampled_imputed_finite, y_train_downsampled)\n",
    "\n",
    "# Predict probabilities on the validation set\n",
    "y_prob_val_rf = rf_model_dn.predict_proba(X_val_scaled)[:, 1]\n",
    "\n",
    "# Calculate AUC-ROC score for the validation set\n",
    "auc_roc_score_rf = roc_auc_score(y_val, y_prob_val_rf)\n",
    "\n",
    "# Evaluate the model\n",
    "accuracy = accuracy_score(y_val, y_pred_val)\n",
    "print(\"Accuracy:\", accuracy)\n",
    "\n",
    "# Classification report\n",
    "print(\"Classification Report:\")\n",
    "print(classification_report(y_val, y_pred_val))\n",
    "print(\"AUC-ROC Score for Random Forest Downsampling (Validation Set):\", auc_roc_score_rf)"
   ]
  },
  {
   "cell_type": "code",
   "execution_count": 66,
   "metadata": {
    "scrolled": true
   },
   "outputs": [
    {
     "name": "stdout",
     "output_type": "stream",
     "text": [
      "Accuracy: 0.4995\n",
      "Classification Report:\n",
      "              precision    recall  f1-score   support\n",
      "\n",
      "           0       0.80      0.49      0.61      1587\n",
      "           1       0.21      0.54      0.31       413\n",
      "\n",
      "    accuracy                           0.50      2000\n",
      "   macro avg       0.51      0.51      0.46      2000\n",
      "weighted avg       0.68      0.50      0.55      2000\n",
      "\n",
      "AUC-ROC Score for Gradient Boosting Downsampling (Validation Set): 0.8692600746684241\n"
     ]
    }
   ],
   "source": [
    "# Initialize lGradient Boosting model\n",
    "gb_model = GradientBoostingClassifier(random_state=42)\n",
    "gb_model_dn = GradientBoostingClassifier(random_state=42)\n",
    "\n",
    "# Instantiate the SimpleImputer with strategy='mean'\n",
    "imputer = SimpleImputer(strategy='mean')\n",
    "\n",
    "# Fit the imputer on X_train_downsampled and transform X_train_downsampled\n",
    "X_train_downsampled_imputed = imputer.fit_transform(X_train_downsampled)\n",
    "\n",
    "# Check for infinite values\n",
    "X_train_downsampled_imputed_finite = X_train_downsampled_imputed[isfinite(X_train_downsampled_imputed).all(axis=1)]\n",
    "\n",
    "\n",
    "# Train the model on the cleaned dataset\n",
    "gb_model_dn.fit(X_train_downsampled_imputed_finite, y_train_downsampled)\n",
    "\n",
    "# Fit the logistic regression model on the downsampled and imputed training data\n",
    "gb_model_dn.fit(X_train_downsampled_imputed_finite, y_train_downsampled)\n",
    "\n",
    "# Predict on the validation set\n",
    "y_pred_val = gb_model_dn.predict(X_val_scaled)\n",
    "\n",
    "# Calculate AUC-ROC score for the validation set\n",
    "auc_roc_score = roc_auc_score(y_val, y_prob_val)\n",
    "\n",
    "# Evaluate the model\n",
    "accuracy = accuracy_score(y_val, y_pred_val)\n",
    "print(\"Accuracy:\", accuracy)\n",
    "\n",
    "# Classification report\n",
    "print(\"Classification Report:\")\n",
    "print(classification_report(y_val, y_pred_val))\n",
    "print(\"AUC-ROC Score for Gradient Boosting Downsampling (Validation Set):\", auc_roc_score)"
   ]
  },
  {
   "cell_type": "markdown",
   "metadata": {},
   "source": [
    "Based on the evaluation metrics, the best model depends on the specific evaluation criteria and preferences. Here's a summary of the performance:\n",
    "\n",
    "Random Forest Model: This model achieves high precision for both classes, indicating low false positive rates. However, the recall for class 1 (minority class) is higher than in the oversampled model, indicating better detection of positive cases. The F1-score for class 1 is also higher than in the oversampled model, indicating better overall balance between precision and recall.\n",
    "\n",
    "Random Forest Model - Random upsampling: This model achieves higher recall for class 0 (majority class) compared to the undersampled model, indicating better detection of negative cases. However, the precision and recall for class 1 are lower than in the undersampled model, indicating a trade-off between precision and recall.\n",
    "\n",
    "Gradient Boosting Model: This model achieves high precision and recall for class 0, indicating good detection of negative cases. However, the precision and recall for class 1 are lower than in the oversampled model, similar to the random forest models.\n",
    "\n",
    "Gradient Boosting Model - Random upsampling: This model achieves higher recall for class 0 compared to the undersampled model, similar to the random forest model. However, the precision and recall for class 1 are lower than in the undersampled model, indicating a similar trade-off between precision and recall.\n",
    "\n",
    "Overall, if the goal is to prioritize balanced performance between the classes, the Random Forest Model with Random Undersampling might be preferred due to its higher recall and F1-score for the minority class while maintaining decent precision. However, if the focus is on overall accuracy and balanced performance."
   ]
  },
  {
   "cell_type": "markdown",
   "metadata": {},
   "source": [
    "# Conclusion\n",
    "\n",
    "In this project, we aimed to predict customer churn for a bank using machine learning techniques. Here's an overview of the findings and conclusions drawn from the project:\n",
    "\n",
    "\n",
    "Data Exploration and Preprocessing:\n",
    "\n",
    "The dataset contained various features such as credit score, age, tenure, balance, and others, along with the target variable indicating whether a customer exited the bank.\n",
    "We performed exploratory data analysis to understand the distribution of features and the target variable.\n",
    "Preprocessing steps included handling missing values, encoding categorical variables, and scaling numerical features.\n",
    "\n",
    "\n",
    "Model Building and Evaluation:\n",
    "\n",
    "We experimented with several machine learning algorithms including Logistic Regression, Random Forest, and Gradient Boosting.\n",
    "Initially, we trained the models without addressing class imbalance, resulting in suboptimal performance, especially in predicting the minority class (churned customers).\n",
    "We then applied techniques to address class imbalance such as random oversampling and undersampling, which helped improve the model's performance to some extent.\n",
    "However, even after balancing the dataset, the models struggled to effectively predict customer churn, with an accuracy of around 64% on the testing set.\n",
    "\n",
    "\n",
    "Key Findings:\n",
    "\n",
    "The original dataset had a significant class imbalance, with a majority of samples belonging to the class of customers who didn't leave the bank.\n",
    "Logistic Regression, Random Forest, and Gradient Boosting showed similar performance metrics, indicating the need for further model refinement.\n",
    "Despite balancing the dataset using both sampling and upsampling, the Gradient Boosting scaled model's performance on the testing set remained consistent.\n",
    "The precision, recall, and F1-score for predicting both classes (0 and 1) are also consistent across different balancing techniques.\n",
    "These results suggest that while balancing the dataset helped address class imbalance, it didn't significantly improve the model's performance in predicting customer churn.\n",
    "Further exploration of feature engineering, model selection, or hyperparameter tuning may be necessary to improve the predictive performance of the model.\n",
    "\n",
    "\n",
    "Recommendations and Future Work:\n",
    "\n",
    "Further exploration of feature engineering techniques, including creating interaction terms and polynomial features, may help capture more complex relationships in the data.\n",
    "Experimentation with different classification algorithms, ensemble methods, or neural networks could potentially lead to better predictive performance.\n",
    "Collecting additional data or features related to customer behavior, satisfaction, or interactions with the bank's services could provide valuable insights for improving churn prediction.\n",
    "Regular monitoring and updating of the model will be essential to ensure its effectiveness in a dynamic banking environment.\n",
    "Overall, while the project made progress in predicting customer churn, there is room for improvement in terms of both data preprocessing and model selection. Addressing these areas could lead to more accurate and actionable predictions, ultimately helping the bank in retaining its customers and improving overall business performance.\n",
    "\n"
   ]
  }
 ],
 "metadata": {
  "kernelspec": {
   "display_name": "Python 3 (ipykernel)",
   "language": "python",
   "name": "python3"
  },
  "language_info": {
   "codemirror_mode": {
    "name": "ipython",
    "version": 3
   },
   "file_extension": ".py",
   "mimetype": "text/x-python",
   "name": "python",
   "nbconvert_exporter": "python",
   "pygments_lexer": "ipython3",
   "version": "3.9.19"
  },
  "toc": {
   "base_numbering": 1,
   "nav_menu": {},
   "number_sections": true,
   "sideBar": true,
   "skip_h1_title": true,
   "title_cell": "Table of Contents",
   "title_sidebar": "Contents",
   "toc_cell": false,
   "toc_position": {
    "height": "calc(100% - 180px)",
    "left": "10px",
    "top": "150px",
    "width": "237.4px"
   },
   "toc_section_display": true,
   "toc_window_display": true
  }
 },
 "nbformat": 4,
 "nbformat_minor": 2
}
